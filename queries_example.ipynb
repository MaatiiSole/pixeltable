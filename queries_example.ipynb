{
 "cells": [
  {
   "cell_type": "code",
   "execution_count": 1,
   "id": "dcce1659",
   "metadata": {},
   "outputs": [],
   "source": [
    "import pixeltable as pxt"
   ]
  },
  {
   "cell_type": "code",
   "execution_count": 2,
   "id": "0cfa68ec",
   "metadata": {},
   "outputs": [
    {
     "name": "stdout",
     "output_type": "stream",
     "text": [
      "Connected to Pixeltable database at: postgresql+psycopg://postgres:@127.0.0.1:64665/pixeltable\n"
     ]
    }
   ],
   "source": [
    "queries_t =  pxt.get_table('pixeltable_db.queries_t')"
   ]
  },
  {
   "cell_type": "code",
   "execution_count": null,
   "id": "486fee53",
   "metadata": {},
   "outputs": [
    {
     "name": "stdout",
     "output_type": "stream",
     "text": [
      "Inserting rows into `queries_t`: 1 rows [00:00,  6.68 rows/s]\n",
      "Inserted 1 row with 0 errors.\n"
     ]
    },
    {
     "data": {
      "text/html": [
       "<table border=\"1\" class=\"dataframe\">\n",
       "  <thead>\n",
       "    <tr style=\"text-align: right;\">\n",
       "      <th>Question</th>\n",
       "      <th>answer</th>\n",
       "    </tr>\n",
       "  </thead>\n",
       "  <tbody>\n",
       "    <tr>\n",
       "      <td>Como se notifica al querellante?</td>\n",
       "      <td>Based on the passages, the answer is: &quot;Personalmente o por mandatario especial&quot;. The passage states that the querella will be presented by the querellante (or their representative) to each querellado.</td>\n",
       "    </tr>\n",
       "    <tr>\n",
       "      <td>Como se notifica al querellante?</td>\n",
       "      <td>According to passage 6), the querella is notified to the querellante (or his representative) in writing, with a copy for each querellado.</td>\n",
       "    </tr>\n",
       "    <tr>\n",
       "      <td>Que pasará con el personal administrativo que trabajaba en el juzgado?</td>\n",
       "      <td>According to Article 68, the personal administrative staff that worked in the Juvenile Courts of First Instance and the Public Prosecution offices will be transferred to work in the Public Prosecution office. They will retain their territorial assignment and their salary cannot be reduced. They will also be ranked according to their category within the organization, with the condition being more favorable to the agent.</td>\n",
       "    </tr>\n",
       "    <tr>\n",
       "      <td>Quien es el presidente de argentina?</td>\n",
       "      <td>The passages do not mention the president of Argentina. They appear to be excerpts from a publication or document related to the anniversary of the restoration of democracy in Argentina, and they discuss the Corte Suprema de Justicia (Supreme Court of Justice) and the Cámara de Diputados (Chamber of Deputies). There is no mention of the president&#x27;s name or any specific information about their identity.</td>\n",
       "    </tr>\n",
       "  </tbody>\n",
       "</table>"
      ],
      "text/plain": [
       "                                            Question  \\\n",
       "0                   Como se notifica al querellante?   \n",
       "1                   Como se notifica al querellante?   \n",
       "2  Que pasará con el personal administrativo que ...   \n",
       "3               Quien es el presidente de argentina?   \n",
       "\n",
       "                                              answer  \n",
       "0  Based on the passages, the answer is: \"Persona...  \n",
       "1  According to passage 6), the querella is notif...  \n",
       "2  According to Article 68, the personal administ...  \n",
       "3  The passages do not mention the president of A...  "
      ]
     },
     "execution_count": 3,
     "metadata": {},
     "output_type": "execute_result"
    }
   ],
   "source": [
    "queries_t =  pxt.get_table('pixeltable_db.queries_t')\n",
    "queries_t.insert([\n",
    "    {'Question': 'Que pasará con el personal administrativo que trabajaba en el juzgado?'}\n",
    "])\n",
    "queries_t.select(queries_t.Question,queries_t.answer).collect()"
   ]
  }
 ],
 "metadata": {
  "kernelspec": {
   "display_name": ".env",
   "language": "python",
   "name": "python3"
  },
  "language_info": {
   "codemirror_mode": {
    "name": "ipython",
    "version": 3
   },
   "file_extension": ".py",
   "mimetype": "text/x-python",
   "name": "python",
   "nbconvert_exporter": "python",
   "pygments_lexer": "ipython3",
   "version": "3.12.2"
  }
 },
 "nbformat": 4,
 "nbformat_minor": 5
}
